{
 "cells": [
  {
   "cell_type": "markdown",
   "metadata": {
    "id": "ra0dyk1rK7UO"
   },
   "source": [
    "# Budowa modelu sieci konwolucyjnych do rozpoznawania obrazów ze zbioru CIFAR100\n",
    "\n",
    "\n",
    "\n",
    "### Opis zbioru danych:\n",
    "\n",
    "\n",
    "\n",
    "CIFAR100 (Canadian Institute For Advanced Research) jest popularnym zbiorem benchmarkowym, wykorzystywanym do nauki i oceny algorytmów uczenia maszynowego oraz rozpoznawania obrazów. Jest to bardziej rozbudowana wersja zbioru CIFAR10, posiada 100 klas obrazów, czyli 10 razy więcej niż poprzednik. Każda z klas zawiera 600 kolorowych obrazów o wymiarze 32x32 pikseli, łacznie znajdziemy ich 60000 w całym zestawie.\n",
    "\n",
    "\n",
    "\n",
    "#### CIFAR100 został pogrupowany na odpowiednie superklasy oraz klasy:\n",
    "\n",
    "\n",
    "\n",
    "|Superclasses | Classes|\n",
    "|- |- |\n",
    "|aquatic mammals| beaver, dolphin, otter, seal, whale|\n",
    "|fish| aquarium fish, flatfish, ray, shark, trout|\n",
    "|flowers| orchids, poppies, roses, sunflowers, tulips|\n",
    "|food containers| bottles, bowls, cans, cups, plates|\n",
    "|fruit and vegetables| apples, mushrooms, oranges, pears, sweet peppers|\n",
    "|household electrical devices| clock, computer keyboard, lamp, telephone, television|\n",
    "|household furniture| bed, chair, couch, table, wardrobe|\n",
    "|insects| bee, beetle, butterfly, caterpillar, cockroach|\n",
    "|large carnivores| bear, leopard, lion, tiger, wolf|\n",
    "|large man-made outdoor things| bridge, castle, house, road, skyscraper|\n",
    "|large natural outdoor scenes| cloud, forest, mountain, plain, sea|\n",
    "|large omnivores and herbivores| camel, cattle, chimpanzee, elephant, kangaroo|\n",
    "|medium-sized mammals| fox, porcupine, possum, raccoon, skunk|\n",
    "|non-insect invertebrates| crab, lobster, snail, spider, worm|\n",
    "|people| baby, boy, girl, man, woman|\n",
    "|reptiles| crocodile, dinosaur, lizard, snake, turtle|\n",
    "|small mammals| hamster, mouse, rabbit, shrew, squirrel|\n",
    "|trees| maple, oak, palm, pine, willow|\n",
    "|vehicles 1| bicycle, bus, motorcycle, pickup truck, train|\n",
    "|vehicles 2| lawn-mower, rocket, streetcar, tank, tractor|\n",
    "\n",
    "\n",
    "\n",
    "\"Yes, I know mushrooms aren't really fruit or vegetables and bears aren't really carnivores.\""
   ]
  },
  {
   "cell_type": "code",
   "execution_count": null,
   "metadata": {
    "id": "0fDa1sqN3ckM"
   },
   "outputs": [],
   "source": [
    "import numpy as np\n",
    "import pandas as pd\n",
    "import seaborn as sns\n",
    "import matplotlib.pyplot as plt\n",
    "import tensorflow as tf\n",
    "from tensorflow.keras import Sequential\n",
    "from tensorflow.keras.layers import Dense, Conv2D, Activation, MaxPool2D, Flatten, Dropout, BatchNormalization, MaxPooling2D\n",
    "from tensorflow.keras.preprocessing.image import ImageDataGenerator\n",
    "from tensorflow.keras import losses\n",
    "from tensorflow.keras.callbacks import EarlyStopping\n",
    "from tensorflow.keras.callbacks import TensorBoard\n",
    "import math"
   ]
  },
  {
   "cell_type": "markdown",
   "metadata": {
    "id": "Qf9iIpICT53J"
   },
   "source": [
    "#### Załadowanie zbioru danych"
   ]
  },
  {
   "cell_type": "code",
   "execution_count": null,
   "metadata": {
    "colab": {
     "base_uri": "https://localhost:8080/"
    },
    "id": "Miymh0zh4PvT",
    "outputId": "b8fd9702-bd22-46e4-b549-4e7674c696f4"
   },
   "outputs": [
    {
     "name": "stdout",
     "output_type": "stream",
     "text": [
      "Downloading data from https://www.cs.toronto.edu/~kriz/cifar-100-python.tar.gz\n",
      "169009152/169001437 [==============================] - 2s 0us/step\n"
     ]
    }
   ],
   "source": [
    "#dataset loading\n",
    "(x_train, y_train), (x_test, y_test) = tf.keras.datasets.cifar100.load_data()"
   ]
  },
  {
   "cell_type": "markdown",
   "metadata": {
    "id": "BKqVuG6TSmUl"
   },
   "source": [
    "#### Po załadowaniu danych pierwszą czynnością było sprawdzenie wymiarowości danych – liczby pikseli na zdjęciach i kanałów RGB i zapisanie jako wymiary wejściowe"
   ]
  },
  {
   "cell_type": "code",
   "execution_count": null,
   "metadata": {
    "id": "vJZDR2op4txp"
   },
   "outputs": [],
   "source": [
    "#data shape\n",
    "input_shape = x_train.shape[1:]"
   ]
  },
  {
   "cell_type": "markdown",
   "metadata": {
    "id": "YL3SbnDmS1u6"
   },
   "source": [
    "### Następnie ustawione zostało kilka parametrów\n",
    "- Sprawdzona została liczba klas, aby upewnić się czy model został prawidłowo wgrany.\n",
    "- Ustawione zostało ziarno losowe na poziomie 1234, aby otrzymywać powtarzalność wyników\n",
    "- Przyjętę zostało 100 epok z użyciem Early Stopping sprawdzającym co 10 epok (wytłumaczone w dalszej części raportu)\n",
    "- Batch size na poziomie 128"
   ]
  },
  {
   "cell_type": "code",
   "execution_count": null,
   "metadata": {
    "id": "K7BqRdXt42mv"
   },
   "outputs": [],
   "source": [
    "# number of classes\n",
    "classes = len(np.unique(y_train))\n",
    "random_state = 1234\n",
    "epochs = 100\n",
    "Batch_size = 128"
   ]
  },
  {
   "cell_type": "markdown",
   "metadata": {
    "id": "jJboIKnsTfdM"
   },
   "source": [
    "#### W tej części dokonana została standaryzacja danych celem zmniejszenia odległości pomiędzy tensorami w sieci, co w większości przypadków jest zalecane i powoduje zwiększenie wyników."
   ]
  },
  {
   "cell_type": "code",
   "execution_count": null,
   "metadata": {
    "id": "6qXAItPB6w_6"
   },
   "outputs": [],
   "source": [
    "x_train = x_train / 255.0\n",
    "x_test = x_test / 255.0"
   ]
  },
  {
   "cell_type": "markdown",
   "metadata": {
    "id": "QsEMq4f4Tiv_"
   },
   "source": [
    "#### Tu dokonana została zmiana struktury macierzy danych wynikowych. W pierwotnej wersji sieć nie mogła zweryfikować swojej istotności, ponieważ dane wynikowe zawierały tylko jedną kolumnę z wynikiem od 0 do 100, w czasie gdy sieć zwracała wyniki w formie macierzy zawierającej 100 kolumn. Poniższy kod zmieniał wymiarowość macierzy, doprowadzając je do tego samego formatu."
   ]
  },
  {
   "cell_type": "code",
   "execution_count": null,
   "metadata": {
    "id": "rn-mf0Y7IWHz"
   },
   "outputs": [],
   "source": [
    "y_train = tf.keras.utils.to_categorical(y_train, num_classes=100)\n",
    "y_test = tf.keras.utils.to_categorical(y_test, num_classes=100)"
   ]
  },
  {
   "cell_type": "markdown",
   "metadata": {
    "id": "S14BxZCRToP9"
   },
   "source": [
    "### Data augmentation Po polsku rozszerzanie danych - to technika służąca do zwiększania ilości danych poprzez dodawanie nieznacznie zmodyfikowanych kopii już istniejących danych lub nowo utworzonych danych syntetycznych z istniejących danych. Działa jak regularyzator i pomaga zmniejszyć nadmierne dopasowanie podczas szkolenia modelu."
   ]
  },
  {
   "cell_type": "code",
   "execution_count": null,
   "metadata": {
    "id": "Sn9s5pBNj138"
   },
   "outputs": [],
   "source": [
    "datagen = ImageDataGenerator(\n",
    "    featurewise_center=True,\n",
    "    featurewise_std_normalization=True,\n",
    "    rotation_range=20,\n",
    "    width_shift_range=0.2,\n",
    "    height_shift_range=0.2,\n",
    "    horizontal_flip=True)"
   ]
  },
  {
   "cell_type": "markdown",
   "metadata": {
    "id": "cSQjEb_VMhtG"
   },
   "source": [
    "## Model sieci konwolucyjnej\n",
    "><b>Do rozwiązania problemu posłużono się siecią konwolucyjnymi</b>, ponieważ ze względu na ich umiejętność stopniowego filtrowania różnych części danych uczących oraz wyostrzania ważnych cech świetnie sprawdzają się one w procesie rozpoznawania obrazów."
   ]
  },
  {
   "cell_type": "markdown",
   "metadata": {
    "id": "D-92MlC-Mw3T"
   },
   "source": [
    "### Opis architektury sieci konwolucyjnych\n",
    "> <b>Deep learning pozwala modelom obliczeniowym wielu warstw przetwarzania, nauczyć się i reprezentować dane z wieloma poziomami abstrakcji</b> naśladując, w jaki sposób mózg odbiera i rozumie informacje multimodalne, a więc przechwytuje skomplikowane struktury danych na dużą skalę. Konwolucyjne sieci neuronowe są oparte na algorytmie głębokiego uczenia. Wykorzystuje się je w celu przetwarzania danych, które składają się z wielowymiarowych macierzy. Przykładem takich macierzy są obrazy, dlatego sieci te sprawdzają się dobrze w przetwarzania obrazów.\n",
    "<br><br> <b>Architektura sieci konwolucyjnych</b> wykorzystuje trzy konkretne pomysły:  lokalne pola receptywne,  powiązane obciążeń i podpróbkowanie przestrzenne. W oparciu o lokalne pole receptywne, każda jednostka w warstwie splotowej otrzymuje dane wejściowe z zestawu sąsiednich jednostek należących do poprzedniej warstwy. W ten sposób neurony są w stanie wyodrębnić elementarne części wizualne, takie jak krawędzie lub rogi. Funkcje te są następnie łączone przez kolejne warstwy splotowe w celu wykrycia cech wyższego rzędu. Ponadto idea, że elementarne detektory cech, które są użyteczne na części obrazu, mogą być użyteczne w całym obrazie, jest realizowana przez koncepcję wiązania obciążeń. Pojęcie wiązanych obciążeń ogranicza zestaw jednostek, aby miały identyczne wagi.\n",
    "<br><br> Podstawą konstrukcji sieci konwolucyjnej są <b>warstwy</b> przyjęte w ilości i rozmiarze, który zależy od stopnia złożoności zadania rozpoznawania. Z uwagi na charakter danych wejściowych (dane obrazowe) oraz stosowane współcześnie metody uczenia, powszechne jest stosowanie warstw. <b>Warstwa wejściowa</b> jest zdefiniowana rozmiarami obrazów poddawanych przetwarzaniu i otrzymuje surowe wartości ich pikseli, które w procesie uczenia są eksponowane wraz z informacją o przynależności do klas. Wymiar warstwy to wysokość i szerokość obrazów wejściowych, które w ramach wstępnego przetwarzania muszą być ujednolicone. <b>Warstwę konwolucyjną</b> tworzy pewna liczba zbiorów neuronów. Wejścia każdego z neuronów połączone są z pewną liczbą pikseli obrazu wejściowego tworzących lokalne, prostokątne pola recepcyjne o zadanych wymiarach lub z pewną liczbą elementów warstwy poprzedzającej, jeśli sieć posiada kilka warstw konwolucyjnych. Dla każdego ze zbiorów neuronów na etapie uczenia wyznaczane są <b>wagi</b>, przy czym każdy z neuronów należących do określonego zbioru ma te wagi jednakowe. Przetwarzanie obrazu przez nauczoną warstwę konwolucyjną może być więc ekwiwalentnie zastąpione jego filtracją zrealizowaną za pomocą splotu (konwolucji) z wykorzystaniem neuronów-filtrów o ustalonych wagach-współczynnikach. Zbiór wszystkich powstałych w wyniku splatania obrazów tworzy mapy cech.\n",
    "<br><br>Operację łączenia wielu wyników pochodzących z sąsiedztwa w mapach cech w jedną cechę realizuje warstwa redukująca tzw. <b>warstwa poolingu</b>. Warstwa ta realizuje filtrację statystyczną w obrębie maski o zadanych rozmiarach wyznaczając wybraną statystykę, np. wartość maksymalną, minimalną lub średnią. Maski przetwarzające obraz w ten sposób nie pokrywają się. W warstwie tej nie występuje proces uczenia, ale dzięki możliwości wybrania odpowiednio dużego kroku przy przesuwaniu maski otrzymuje się redukcję wymiarów map cech (pomniejszone mapy cech), co sprzyja poprawie szybkości uczenia. Poza tym, w przypadku stosowania po niej kolejnej warstwy konwolucyjnej, warstwa redukująca daje jej neuronom możliwość objęcia większej powierzchni obrazu i tym samym kształtowanie innych rodzajów cech. Sieć uzyskuje również pewną odporność na przesunięcia wzorców obrazów. Warstwa ta tym samym ogranicza również ryzyko przetrenowania.\n",
    "<br><br> <b>Do budowy sieci wybrano warstwę poolingu typu max, która jest najpopularniejszym rodzajem warstwy łączącej. Dalsze decyzje doboru hiperparametrów przedstawiono w dalszej części pracy. </b>"
   ]
  },
  {
   "cell_type": "markdown",
   "metadata": {
    "id": "rya6CSb_NcJG"
   },
   "source": [
    "### Funkcje aktywacji\n",
    ">Rolą funkcji aktywacji jest przedstawienie, w jakim stopniu dany neuron jest pobudzony aktualnie docierającymi do niego wartościami.\n",
    "Wynik działania warstwy konwolucyjnej może zawierać wartości ujemne, które są eliminowane przez nieliniową <b>funkcję aktywacji o nazwie ReLU (ang. rectified linear unit)</b>. Funkcja ta wartości pikseli, które w mapach cech są dodatnie pozostawia bez zmian a ujemne zamienia na zerowe. Funkcja ReLU jest nieco szybsza od pozostałych funkcji aktywacji, a ponadto algorytm spadku gradientowego rzadziej zatrzymuje się na wypłaszczeniach ze względu na większą odporność na duże wartości wejściowe. Funkcja logistyczna i tangensa hiperbolicznego sprawdzają się nieco gorzej, gdyż ulegają nasyceniu w punkcie 1, por. Geron (2017). <b> Ze względu na powyższe w pracy posłużono się funkcją ReLU. </b><br><br>\n",
    "<b>W przypadku warstwy wyjściowej pojedynczą funkcję aktywacji zastąpiono współdzieloną funkcją typu softmax</b>, która dla każdej obserwacji oblicza prawdopodobieństwo przynależności obrazu wejściowego do określonej kategorii. Funkcja ta jest odpowiednia do przedstawionego problemu ze względu na wzajemnie wykluczające się klasy zdjęć."
   ]
  },
  {
   "cell_type": "markdown",
   "metadata": {
    "id": "iqIj0PHTNkxl"
   },
   "source": [
    "### Algorytm optymalizacji\n",
    "\n",
    "> Algorytmy optymalizacji pomagają zminimalizować (lub zmaksymalizować) funkcję straty, która jest zależna od wewnętrznych parametrów uczenia się modelu oraz która jest używana do obliczania wartości docelowych na podstawie zestawu predyktorów. W praktyce oznacza to, że wagi i odchylenia są wykorzystywane do obliczenia wartości wyjściowych i aktualizowane tak, aby dążyć w kierunku optymalnego rozwiązania.\n",
    "Jednym z przykładowych algorytmów optymalizujących jest ADAM\n",
    "- <B>ADAM</B> (Adaptive Moment Estimation) - działa dobrze w praktyce i wypada korzystnie w porównaniu z innymi algorytmami adaptacyjnej metody uczenia się, ponieważ zbiega bardzo szybko, a szybkość uczenia się modelu przebiega równie sprawnie i efektywnie.  Dodatkowo naprawia problemy spotykane w innych technikach optymalizacji takie jak: zanikająca stopa uczenia, powolne osiąganie kryterium zbiezności lub wysoka wariancja w aktualizowaniu parametrów co prowadzi do wahań w funkcji straty.*"
   ]
  },
  {
   "cell_type": "markdown",
   "metadata": {
    "id": "BRr_3HuwOX6h"
   },
   "source": [
    "### Przeuczenie i regularyzacja\n",
    "Elastyczność związana z ogromną liczbą parametrów sieci neuronowych związana jest z podatnością na ich <b>przetrenowanie</b>. Wśród technik regularyzacji wyróżnić można: wczesne <b>zatrzymywanie, modyfikacje funkcji kosztu, porzucanie (dropout), regularyzacja typu max-norm oraz dogenerowanie danych z istniejących przykładów</b>.  \n",
    "<br><b>W pracy do budowy modeli sieci konwolucyjnej posłużono się metodą wczesnego zatrzymywania</b> polegającą na przerwaniu procesu uczenia sieci w momencie spadku wydajnośći modelu wobec zbioru walidacyjnego. Zaimplementowano tę metodę poprzez ocenianie wydajności modelu w regularnych odstępach czasu i ocenę wielkości błędu na poszczególnych zbiorach na wykresie.\n",
    "W miarę upływu kolejnych epok procesu uczenia algorytm uczy się, a więc błąd predycji spada, a rośnie dokładność na zestawie uczącym. Jeśli jednak błąd na danych walidacyjnych zaczyna rosnąć, oznacza to, że model ulega przetrenowaniu. Wczesne zatrzymanie umożliwia przerwanie procesu w momencie osiągnięcia minimalnej wartości błędu predykcji.\n",
    "<b>Posłużono się również techniką regularyzacji dropout </b>\n",
    "Jest to najpopularniejsza z technik regularyzacji zaproponowana przez G. E. Hintona w 2012 roku. Istnieje wiele prac dowodzących skuteczności tej metody - nawet najbardziej złożone sieci neuronowe uzyskują 1-2% poprawę precyzji przez zastosowanie dropoutu. Idea algorytmu opiera się na prostym założeniu: w procesie uczenia z każdym krokiem każdy neuron z wyjątkiem tych z warstwy wyjściowej posiada prawdopodobieństwo <i>p</i> bycia porzuconym ze zbioru w tym kroku. Hiperparametr <i>p</i> zazwyczaj przyjmuje poziom 50%."
   ]
  },
  {
   "cell_type": "markdown",
   "metadata": {
    "id": "seXq0-U3N_mS"
   },
   "source": [
    "### Budowa modelu\n",
    "> <b> W procedurze budowy najlepszego modelu trenowano wiele różnych sieci. W pracy zaprezentowano jedynie model dwa modele sieci konwolucyjnej - o mniej oraz bardziej skomplikowanej architekturze. Model finalny okazał się być modelem najlepszym, a poprzedzający posłużył w pracy jako benchmark, został zoptymalizowany za pomocą funkcji dropout, dodaniem warstwy Maxpooling i funkcji BatchNormalization, model finalny osiągnął znacznie lepszy wynik na zbiorze testowy co świadczy o tym, że dodanie tych funcji pozwoliło na zmniejszenie przeuczenia modelu."
   ]
  },
  {
   "cell_type": "markdown",
   "metadata": {
    "id": "rRE2V3Wf6_3D"
   },
   "source": [
    "## Model building"
   ]
  },
  {
   "cell_type": "code",
   "execution_count": null,
   "metadata": {
    "id": "OBAknyBP6_AG"
   },
   "outputs": [],
   "source": [
    "early_stopping = EarlyStopping(\n",
    "    min_delta=0.001, # minimium amount of change to count as an improvement\n",
    "    patience=10, # how many epochs to wait before stopping\n",
    "    restore_best_weights=True,\n",
    ")\n",
    "\n",
    "model = Sequential()\n",
    "model.add(Conv2D(64, kernel_size=(3, 3),\n",
    "                 activation='relu',\n",
    "                  kernel_initializer='he_normal',\n",
    "                 input_shape=input_shape))\n",
    "model.add(Conv2D(64, kernel_size=(3, 3),\n",
    "                 activation='relu'))\n",
    "\n",
    "model.add(Conv2D(128, kernel_size=(3, 3),\n",
    "                 activation='relu'))\n",
    "model.add(Conv2D(128, kernel_size=(3, 3),\n",
    "                 activation='relu'))\n",
    "\n",
    "model.add(Conv2D(256, kernel_size=(3, 3),\n",
    "                 activation='relu'))\n",
    "model.add(Conv2D(256, kernel_size=(3, 3),\n",
    "                 activation='relu'))\n",
    "\n",
    "model.add(Flatten())\n",
    "model.add(Dense(1024, activation='relu'))\n",
    "\n",
    "model.add(Dense(512, activation='relu'))\n",
    "\n",
    "model.add(Dense(classes, activation='softmax'))"
   ]
  },
  {
   "cell_type": "code",
   "execution_count": null,
   "metadata": {
    "id": "uH4B6RJCE6nK"
   },
   "outputs": [],
   "source": [
    "model.compile(optimizer='adam', loss= losses.CategoricalCrossentropy(from_logits=True), metrics='accuracy')"
   ]
  },
  {
   "cell_type": "code",
   "execution_count": null,
   "metadata": {
    "colab": {
     "base_uri": "https://localhost:8080/"
    },
    "id": "DU_ZB4vVE6CA",
    "outputId": "0f5ca1fc-f340-4a8e-9eb3-ce4dbdcd420a"
   },
   "outputs": [
    {
     "name": "stderr",
     "output_type": "stream",
     "text": [
      "/usr/local/lib/python3.6/dist-packages/keras_preprocessing/image/image_data_generator.py:720: UserWarning: This ImageDataGenerator specifies `featurewise_center`, but it hasn't been fit on any training data. Fit it first by calling `.fit(numpy_data)`.\n",
      "  warnings.warn('This ImageDataGenerator specifies '\n",
      "/usr/local/lib/python3.6/dist-packages/keras_preprocessing/image/image_data_generator.py:728: UserWarning: This ImageDataGenerator specifies `featurewise_std_normalization`, but it hasn't been fit on any training data. Fit it first by calling `.fit(numpy_data)`.\n",
      "  warnings.warn('This ImageDataGenerator specifies '\n"
     ]
    },
    {
     "name": "stdout",
     "output_type": "stream",
     "text": [
      "Epoch 1/100\n",
      "391/391 [==============================] - 39s 98ms/step - loss: 4.5505 - accuracy: 0.0343 - val_loss: 3.8593 - val_accuracy: 0.0998\n",
      "Epoch 2/100\n",
      "391/391 [==============================] - 39s 100ms/step - loss: 3.8149 - accuracy: 0.1075 - val_loss: 3.4844 - val_accuracy: 0.1624\n",
      "Epoch 3/100\n",
      "391/391 [==============================] - 40s 101ms/step - loss: 3.5660 - accuracy: 0.1495 - val_loss: 3.3259 - val_accuracy: 0.1983\n",
      "Epoch 4/100\n",
      "391/391 [==============================] - 39s 100ms/step - loss: 3.3775 - accuracy: 0.1847 - val_loss: 3.1761 - val_accuracy: 0.2201\n",
      "Epoch 5/100\n",
      "391/391 [==============================] - 39s 101ms/step - loss: 3.2336 - accuracy: 0.2097 - val_loss: 3.0283 - val_accuracy: 0.2467\n",
      "Epoch 6/100\n",
      "391/391 [==============================] - 39s 101ms/step - loss: 3.1256 - accuracy: 0.2268 - val_loss: 2.9542 - val_accuracy: 0.2663\n",
      "Epoch 7/100\n",
      "391/391 [==============================] - 39s 101ms/step - loss: 3.0213 - accuracy: 0.2480 - val_loss: 2.8580 - val_accuracy: 0.2859\n",
      "Epoch 8/100\n",
      "391/391 [==============================] - 39s 101ms/step - loss: 2.9380 - accuracy: 0.2631 - val_loss: 2.7642 - val_accuracy: 0.3040\n",
      "Epoch 9/100\n",
      "391/391 [==============================] - 39s 101ms/step - loss: 2.8718 - accuracy: 0.2788 - val_loss: 2.7082 - val_accuracy: 0.3177\n",
      "Epoch 10/100\n",
      "391/391 [==============================] - 39s 101ms/step - loss: 2.7825 - accuracy: 0.2950 - val_loss: 2.6868 - val_accuracy: 0.3208\n",
      "Epoch 11/100\n",
      "391/391 [==============================] - 39s 101ms/step - loss: 2.7087 - accuracy: 0.3077 - val_loss: 2.5659 - val_accuracy: 0.3464\n",
      "Epoch 12/100\n",
      "391/391 [==============================] - 40s 101ms/step - loss: 2.6556 - accuracy: 0.3211 - val_loss: 2.5450 - val_accuracy: 0.3437\n",
      "Epoch 13/100\n",
      "391/391 [==============================] - 40s 101ms/step - loss: 2.5847 - accuracy: 0.3326 - val_loss: 2.6194 - val_accuracy: 0.3424\n",
      "Epoch 14/100\n",
      "391/391 [==============================] - 40s 101ms/step - loss: 2.5485 - accuracy: 0.3426 - val_loss: 2.4744 - val_accuracy: 0.3660\n",
      "Epoch 15/100\n",
      "391/391 [==============================] - 39s 101ms/step - loss: 2.4749 - accuracy: 0.3621 - val_loss: 2.5189 - val_accuracy: 0.3588\n",
      "Epoch 16/100\n",
      "391/391 [==============================] - 39s 101ms/step - loss: 2.4425 - accuracy: 0.3638 - val_loss: 2.4604 - val_accuracy: 0.3708\n",
      "Epoch 17/100\n",
      "391/391 [==============================] - 39s 101ms/step - loss: 2.4106 - accuracy: 0.3702 - val_loss: 2.3699 - val_accuracy: 0.3879\n",
      "Epoch 18/100\n",
      "391/391 [==============================] - 39s 101ms/step - loss: 2.3698 - accuracy: 0.3789 - val_loss: 2.5066 - val_accuracy: 0.3639\n",
      "Epoch 19/100\n",
      "391/391 [==============================] - 39s 101ms/step - loss: 2.3274 - accuracy: 0.3903 - val_loss: 2.3126 - val_accuracy: 0.3977\n",
      "Epoch 20/100\n",
      "391/391 [==============================] - 40s 101ms/step - loss: 2.3052 - accuracy: 0.3945 - val_loss: 2.3584 - val_accuracy: 0.3915\n",
      "Epoch 21/100\n",
      "391/391 [==============================] - 40s 101ms/step - loss: 2.2732 - accuracy: 0.3975 - val_loss: 2.3036 - val_accuracy: 0.3972\n",
      "Epoch 22/100\n",
      "391/391 [==============================] - 39s 101ms/step - loss: 2.2046 - accuracy: 0.4117 - val_loss: 2.2643 - val_accuracy: 0.4080\n",
      "Epoch 23/100\n",
      "391/391 [==============================] - 40s 101ms/step - loss: 2.2040 - accuracy: 0.4107 - val_loss: 2.3533 - val_accuracy: 0.3954\n",
      "Epoch 24/100\n",
      "391/391 [==============================] - 40s 101ms/step - loss: 2.1871 - accuracy: 0.4191 - val_loss: 2.3671 - val_accuracy: 0.3947\n",
      "Epoch 25/100\n",
      "391/391 [==============================] - 40s 101ms/step - loss: 2.1750 - accuracy: 0.4185 - val_loss: 2.2560 - val_accuracy: 0.4141\n",
      "Epoch 26/100\n",
      "391/391 [==============================] - 39s 101ms/step - loss: 2.1213 - accuracy: 0.4337 - val_loss: 2.1893 - val_accuracy: 0.4273\n",
      "Epoch 27/100\n",
      "391/391 [==============================] - 40s 101ms/step - loss: 2.1059 - accuracy: 0.4348 - val_loss: 2.4141 - val_accuracy: 0.3912\n",
      "Epoch 28/100\n",
      "391/391 [==============================] - 40s 101ms/step - loss: 2.0955 - accuracy: 0.4371 - val_loss: 2.3362 - val_accuracy: 0.3988\n",
      "Epoch 29/100\n",
      "391/391 [==============================] - 40s 101ms/step - loss: 2.0672 - accuracy: 0.4438 - val_loss: 2.3490 - val_accuracy: 0.4056\n",
      "Epoch 30/100\n",
      "391/391 [==============================] - 39s 101ms/step - loss: 2.0336 - accuracy: 0.4437 - val_loss: 2.2477 - val_accuracy: 0.4151\n",
      "Epoch 31/100\n",
      "391/391 [==============================] - 39s 101ms/step - loss: 2.0336 - accuracy: 0.4495 - val_loss: 2.2423 - val_accuracy: 0.4186\n",
      "Epoch 32/100\n",
      "391/391 [==============================] - 39s 101ms/step - loss: 2.0169 - accuracy: 0.4539 - val_loss: 2.1607 - val_accuracy: 0.4308\n",
      "Epoch 33/100\n",
      "391/391 [==============================] - 39s 101ms/step - loss: 1.9827 - accuracy: 0.4610 - val_loss: 2.3014 - val_accuracy: 0.4172\n",
      "Epoch 34/100\n",
      "391/391 [==============================] - 40s 101ms/step - loss: 1.9735 - accuracy: 0.4637 - val_loss: 2.2492 - val_accuracy: 0.4242\n",
      "Epoch 35/100\n",
      "391/391 [==============================] - 40s 101ms/step - loss: 1.9773 - accuracy: 0.4638 - val_loss: 2.1530 - val_accuracy: 0.4417\n",
      "Epoch 36/100\n",
      "391/391 [==============================] - 40s 101ms/step - loss: 1.9340 - accuracy: 0.4750 - val_loss: 2.2809 - val_accuracy: 0.4215\n",
      "Epoch 37/100\n",
      "391/391 [==============================] - 40s 101ms/step - loss: 1.9383 - accuracy: 0.4698 - val_loss: 2.2006 - val_accuracy: 0.4322\n",
      "Epoch 38/100\n",
      "391/391 [==============================] - 40s 101ms/step - loss: 1.9281 - accuracy: 0.4712 - val_loss: 2.1833 - val_accuracy: 0.4390\n",
      "Epoch 39/100\n",
      "391/391 [==============================] - 40s 101ms/step - loss: 1.8970 - accuracy: 0.4821 - val_loss: 2.0936 - val_accuracy: 0.4537\n",
      "Epoch 40/100\n",
      "391/391 [==============================] - 40s 101ms/step - loss: 1.9015 - accuracy: 0.4814 - val_loss: 2.1352 - val_accuracy: 0.4495\n",
      "Epoch 41/100\n",
      "391/391 [==============================] - 40s 101ms/step - loss: 1.8860 - accuracy: 0.4827 - val_loss: 2.1884 - val_accuracy: 0.4352\n",
      "Epoch 42/100\n",
      "391/391 [==============================] - 39s 101ms/step - loss: 1.8652 - accuracy: 0.4855 - val_loss: 2.1799 - val_accuracy: 0.4415\n",
      "Epoch 43/100\n",
      "391/391 [==============================] - 40s 101ms/step - loss: 1.8340 - accuracy: 0.4936 - val_loss: 2.1527 - val_accuracy: 0.4466\n",
      "Epoch 44/100\n",
      "391/391 [==============================] - 40s 101ms/step - loss: 1.8515 - accuracy: 0.4897 - val_loss: 2.2117 - val_accuracy: 0.4414\n",
      "Epoch 45/100\n",
      "391/391 [==============================] - 39s 101ms/step - loss: 1.8381 - accuracy: 0.4957 - val_loss: 2.3331 - val_accuracy: 0.4261\n",
      "Epoch 46/100\n",
      "391/391 [==============================] - 39s 101ms/step - loss: 1.8296 - accuracy: 0.4981 - val_loss: 2.1556 - val_accuracy: 0.4533\n",
      "Epoch 47/100\n",
      "391/391 [==============================] - 40s 101ms/step - loss: 1.8095 - accuracy: 0.4997 - val_loss: 2.2255 - val_accuracy: 0.4363\n",
      "Epoch 48/100\n",
      "391/391 [==============================] - 40s 101ms/step - loss: 1.8061 - accuracy: 0.5020 - val_loss: 2.1648 - val_accuracy: 0.4506\n",
      "Epoch 49/100\n",
      "391/391 [==============================] - 40s 101ms/step - loss: 1.7992 - accuracy: 0.5037 - val_loss: 2.1997 - val_accuracy: 0.4487\n"
     ]
    }
   ],
   "source": [
    "train_model = model.fit(datagen.flow(x_train, y_train, batch_size=128),\n",
    "                  epochs=epochs,\n",
    "                  callbacks=[early_stopping],\n",
    "                  verbose=1,\n",
    "                  validation_data=(x_test, y_test))"
   ]
  },
  {
   "cell_type": "code",
   "execution_count": null,
   "metadata": {
    "colab": {
     "base_uri": "https://localhost:8080/"
    },
    "id": "2MU9DF1yFLUi",
    "outputId": "d94bbf19-60dc-42e4-8c1d-764de13a1272"
   },
   "outputs": [
    {
     "name": "stdout",
     "output_type": "stream",
     "text": [
      "313/313 [==============================] - 3s 8ms/step - loss: 2.0936 - accuracy: 0.4537\n",
      "Test loss: 2.093562126159668\n",
      "Test accuracy: 0.4537000060081482\n"
     ]
    }
   ],
   "source": [
    "score = model.evaluate(x_test, y_test, steps=math.ceil(10000/32))\n",
    "print('Test loss:', score[0])\n",
    "print('Test accuracy:', score[1])"
   ]
  },
  {
   "cell_type": "markdown",
   "metadata": {
    "id": "dwXGK1UThHMH"
   },
   "source": [
    "Po pierwszym treningu modelu widać, że jest on trochę przeuczony i można go jeszcze usprawnić"
   ]
  },
  {
   "cell_type": "markdown",
   "metadata": {
    "id": "gBh-kDjwhNGw"
   },
   "source": [
    "###Tuning modelu"
   ]
  },
  {
   "cell_type": "code",
   "execution_count": null,
   "metadata": {
    "id": "RZZpCX_2-LH3"
   },
   "outputs": [],
   "source": [
    "early_stopping = EarlyStopping(\n",
    "    min_delta=0.001, # minimium amount of change to count as an improvement\n",
    "    patience=10, # how many epochs to wait before stopping\n",
    "    restore_best_weights=True,\n",
    ")\n",
    "\n",
    "model = Sequential()\n",
    "model.add(Conv2D(64, kernel_size=(3, 3),\n",
    "                 activation='relu',\n",
    "                  kernel_initializer='he_normal',\n",
    "                 input_shape=input_shape))\n",
    "model.add(Conv2D(64, kernel_size=(3, 3),\n",
    "                 activation='relu'))\n",
    "model.add(tf.keras.layers.BatchNormalization())\n",
    "model.add(Dropout(0.3))\n",
    "\n",
    "model.add(Conv2D(128, kernel_size=(3, 3),\n",
    "                 activation='relu'))\n",
    "model.add(Conv2D(128, kernel_size=(3, 3),\n",
    "                 activation='relu'))\n",
    "model.add(MaxPooling2D(pool_size=(2, 2)))\n",
    "model.add(tf.keras.layers.BatchNormalization())\n",
    "model.add(Dropout(0.4))\n",
    "\n",
    "model.add(Conv2D(256, kernel_size=(3, 3),\n",
    "                 activation='relu'))\n",
    "model.add(Conv2D(256, kernel_size=(3, 3),\n",
    "                 activation='relu'))\n",
    "model.add(MaxPooling2D(pool_size=(2, 2)))\n",
    "model.add(tf.keras.layers.BatchNormalization())\n",
    "model.add(Dropout(0.5))\n",
    "\n",
    "model.add(Flatten())\n",
    "model.add(Dense(1024, activation='relu'))\n",
    "model.add(Dropout(0.4))\n",
    "model.add(Dense(512, activation='relu'))\n",
    "model.add(Dropout(0.3))\n",
    "model.add(Dense(classes, activation='softmax'))"
   ]
  },
  {
   "cell_type": "code",
   "execution_count": null,
   "metadata": {
    "id": "uOynAyQo7W45"
   },
   "outputs": [],
   "source": [
    "model.compile(optimizer='adam', loss= losses.CategoricalCrossentropy(from_logits=True), metrics='accuracy')"
   ]
  },
  {
   "cell_type": "code",
   "execution_count": null,
   "metadata": {
    "colab": {
     "base_uri": "https://localhost:8080/",
     "height": 1000
    },
    "id": "-w4Turmd8ZGK",
    "outputId": "dde625d4-8eda-4f63-ec90-03c4b5a0775e"
   },
   "outputs": [
    {
     "name": "stderr",
     "output_type": "stream",
     "text": [
      "/usr/local/lib/python3.6/dist-packages/keras_preprocessing/image/image_data_generator.py:720: UserWarning: This ImageDataGenerator specifies `featurewise_center`, but it hasn't been fit on any training data. Fit it first by calling `.fit(numpy_data)`.\n",
      "  warnings.warn('This ImageDataGenerator specifies '\n",
      "/usr/local/lib/python3.6/dist-packages/keras_preprocessing/image/image_data_generator.py:728: UserWarning: This ImageDataGenerator specifies `featurewise_std_normalization`, but it hasn't been fit on any training data. Fit it first by calling `.fit(numpy_data)`.\n",
      "  warnings.warn('This ImageDataGenerator specifies '\n"
     ]
    },
    {
     "name": "stdout",
     "output_type": "stream",
     "text": [
      "Epoch 1/100\n",
      "391/391 [==============================] - 30s 74ms/step - loss: 4.6550 - accuracy: 0.0353 - val_loss: 4.3104 - val_accuracy: 0.0556\n",
      "Epoch 2/100\n",
      "391/391 [==============================] - 28s 71ms/step - loss: 4.0315 - accuracy: 0.0772 - val_loss: 3.9333 - val_accuracy: 0.0940\n",
      "Epoch 3/100\n",
      "391/391 [==============================] - 28s 71ms/step - loss: 3.8582 - accuracy: 0.1020 - val_loss: 3.9326 - val_accuracy: 0.1065\n",
      "Epoch 4/100\n",
      "391/391 [==============================] - 28s 71ms/step - loss: 3.6796 - accuracy: 0.1286 - val_loss: 3.4137 - val_accuracy: 0.1767\n",
      "Epoch 5/100\n",
      "391/391 [==============================] - 28s 72ms/step - loss: 3.5660 - accuracy: 0.1522 - val_loss: 3.1739 - val_accuracy: 0.2098\n",
      "Epoch 6/100\n",
      "391/391 [==============================] - 28s 72ms/step - loss: 3.4511 - accuracy: 0.1665 - val_loss: 3.0001 - val_accuracy: 0.2526\n",
      "Epoch 7/100\n",
      "391/391 [==============================] - 28s 72ms/step - loss: 3.3552 - accuracy: 0.1857 - val_loss: 3.0664 - val_accuracy: 0.2430\n",
      "Epoch 8/100\n",
      "391/391 [==============================] - 28s 72ms/step - loss: 3.2608 - accuracy: 0.2052 - val_loss: 2.9205 - val_accuracy: 0.2628\n",
      "Epoch 9/100\n",
      "391/391 [==============================] - 28s 72ms/step - loss: 3.1749 - accuracy: 0.2167 - val_loss: 2.8451 - val_accuracy: 0.2751\n",
      "Epoch 10/100\n",
      "391/391 [==============================] - 28s 71ms/step - loss: 3.1075 - accuracy: 0.2279 - val_loss: 2.6625 - val_accuracy: 0.3078\n",
      "Epoch 11/100\n",
      "391/391 [==============================] - 28s 71ms/step - loss: 3.0304 - accuracy: 0.2464 - val_loss: 2.7585 - val_accuracy: 0.2897\n",
      "Epoch 12/100\n",
      "391/391 [==============================] - 28s 71ms/step - loss: 2.9799 - accuracy: 0.2533 - val_loss: 2.5476 - val_accuracy: 0.3366\n",
      "Epoch 13/100\n",
      "391/391 [==============================] - 28s 72ms/step - loss: 2.9221 - accuracy: 0.2672 - val_loss: 2.5022 - val_accuracy: 0.3403\n",
      "Epoch 14/100\n",
      "391/391 [==============================] - 28s 73ms/step - loss: 2.8528 - accuracy: 0.2758 - val_loss: 2.5180 - val_accuracy: 0.3391\n",
      "Epoch 15/100\n",
      "391/391 [==============================] - 29s 73ms/step - loss: 2.8115 - accuracy: 0.2890 - val_loss: 2.4686 - val_accuracy: 0.3566\n",
      "Epoch 16/100\n",
      "391/391 [==============================] - 29s 74ms/step - loss: 2.7680 - accuracy: 0.2976 - val_loss: 2.3960 - val_accuracy: 0.3706\n",
      "Epoch 17/100\n",
      "391/391 [==============================] - 29s 73ms/step - loss: 2.7164 - accuracy: 0.3105 - val_loss: 2.7476 - val_accuracy: 0.3181\n",
      "Epoch 18/100\n",
      "391/391 [==============================] - 29s 73ms/step - loss: 2.6880 - accuracy: 0.3157 - val_loss: 2.3276 - val_accuracy: 0.3866\n",
      "Epoch 19/100\n",
      "391/391 [==============================] - 29s 73ms/step - loss: 2.6203 - accuracy: 0.3306 - val_loss: 2.4293 - val_accuracy: 0.3876\n",
      "Epoch 20/100\n",
      "391/391 [==============================] - 29s 73ms/step - loss: 2.6061 - accuracy: 0.3337 - val_loss: 2.3627 - val_accuracy: 0.3801\n",
      "Epoch 21/100\n",
      "391/391 [==============================] - 28s 73ms/step - loss: 2.5452 - accuracy: 0.3461 - val_loss: 2.1728 - val_accuracy: 0.4212\n",
      "Epoch 22/100\n",
      "391/391 [==============================] - 29s 73ms/step - loss: 2.5149 - accuracy: 0.3532 - val_loss: 2.2208 - val_accuracy: 0.4196\n",
      "Epoch 23/100\n",
      "391/391 [==============================] - 28s 73ms/step - loss: 2.4690 - accuracy: 0.3594 - val_loss: 2.3072 - val_accuracy: 0.4091\n",
      "Epoch 24/100\n",
      "391/391 [==============================] - 28s 73ms/step - loss: 2.4429 - accuracy: 0.3654 - val_loss: 2.1061 - val_accuracy: 0.4378\n",
      "Epoch 25/100\n",
      "391/391 [==============================] - 28s 73ms/step - loss: 2.4093 - accuracy: 0.3724 - val_loss: 2.2109 - val_accuracy: 0.4257\n",
      "Epoch 26/100\n",
      "391/391 [==============================] - 28s 72ms/step - loss: 2.3988 - accuracy: 0.3730 - val_loss: 2.1075 - val_accuracy: 0.4390\n",
      "Epoch 27/100\n",
      "391/391 [==============================] - 29s 74ms/step - loss: 2.3659 - accuracy: 0.3819 - val_loss: 2.0564 - val_accuracy: 0.4509\n",
      "Epoch 28/100\n",
      "391/391 [==============================] - 29s 73ms/step - loss: 2.3457 - accuracy: 0.3855 - val_loss: 2.1863 - val_accuracy: 0.4310\n",
      "Epoch 29/100\n",
      "391/391 [==============================] - 29s 73ms/step - loss: 2.3031 - accuracy: 0.3949 - val_loss: 2.0075 - val_accuracy: 0.4647\n",
      "Epoch 30/100\n",
      "391/391 [==============================] - 29s 73ms/step - loss: 2.2726 - accuracy: 0.4019 - val_loss: 1.9333 - val_accuracy: 0.4767\n",
      "Epoch 31/100\n",
      "391/391 [==============================] - 29s 73ms/step - loss: 2.2522 - accuracy: 0.4064 - val_loss: 2.0574 - val_accuracy: 0.4611\n",
      "Epoch 32/100\n",
      "391/391 [==============================] - 29s 73ms/step - loss: 2.2233 - accuracy: 0.4154 - val_loss: 2.0581 - val_accuracy: 0.4634\n",
      "Epoch 33/100\n",
      "391/391 [==============================] - 29s 73ms/step - loss: 2.2013 - accuracy: 0.4188 - val_loss: 1.8179 - val_accuracy: 0.5084\n",
      "Epoch 34/100\n",
      "391/391 [==============================] - 29s 73ms/step - loss: 2.1948 - accuracy: 0.4199 - val_loss: 2.0652 - val_accuracy: 0.4551\n",
      "Epoch 35/100\n",
      "391/391 [==============================] - 28s 73ms/step - loss: 2.1606 - accuracy: 0.4237 - val_loss: 1.8275 - val_accuracy: 0.4985\n",
      "Epoch 36/100\n",
      "391/391 [==============================] - 29s 73ms/step - loss: 2.1601 - accuracy: 0.4274 - val_loss: 1.8336 - val_accuracy: 0.5077\n",
      "Epoch 37/100\n",
      "391/391 [==============================] - 29s 73ms/step - loss: 2.1424 - accuracy: 0.4282 - val_loss: 1.9240 - val_accuracy: 0.4859\n",
      "Epoch 38/100\n",
      "391/391 [==============================] - 29s 73ms/step - loss: 2.1233 - accuracy: 0.4366 - val_loss: 1.7967 - val_accuracy: 0.5106\n",
      "Epoch 39/100\n",
      "391/391 [==============================] - 29s 74ms/step - loss: 2.1020 - accuracy: 0.4404 - val_loss: 1.8222 - val_accuracy: 0.5044\n",
      "Epoch 40/100\n",
      "391/391 [==============================] - 28s 72ms/step - loss: 2.0972 - accuracy: 0.4419 - val_loss: 1.8232 - val_accuracy: 0.5094\n",
      "Epoch 41/100\n",
      "391/391 [==============================] - 28s 72ms/step - loss: 2.0652 - accuracy: 0.4432 - val_loss: 1.8359 - val_accuracy: 0.5069\n",
      "Epoch 42/100\n",
      "391/391 [==============================] - 28s 73ms/step - loss: 2.0720 - accuracy: 0.4480 - val_loss: 1.7393 - val_accuracy: 0.5211\n",
      "Epoch 43/100\n",
      "391/391 [==============================] - 29s 74ms/step - loss: 2.0228 - accuracy: 0.4594 - val_loss: 1.9189 - val_accuracy: 0.4854\n",
      "Epoch 44/100\n",
      "391/391 [==============================] - 29s 74ms/step - loss: 2.0500 - accuracy: 0.4467 - val_loss: 1.7249 - val_accuracy: 0.5281\n",
      "Epoch 45/100\n",
      "391/391 [==============================] - 28s 73ms/step - loss: 2.0225 - accuracy: 0.4553 - val_loss: 1.7972 - val_accuracy: 0.5176\n",
      "Epoch 46/100\n",
      "391/391 [==============================] - 29s 73ms/step - loss: 2.0163 - accuracy: 0.4575 - val_loss: 1.7735 - val_accuracy: 0.5210\n",
      "Epoch 47/100\n",
      "391/391 [==============================] - 29s 74ms/step - loss: 2.0077 - accuracy: 0.4626 - val_loss: 1.7468 - val_accuracy: 0.5221\n",
      "Epoch 48/100\n",
      "391/391 [==============================] - 29s 75ms/step - loss: 1.9884 - accuracy: 0.4648 - val_loss: 1.7537 - val_accuracy: 0.5260\n",
      "Epoch 49/100\n",
      "391/391 [==============================] - 29s 73ms/step - loss: 1.9869 - accuracy: 0.4684 - val_loss: 1.8638 - val_accuracy: 0.4991\n",
      "Epoch 50/100\n",
      "391/391 [==============================] - 29s 73ms/step - loss: 1.9801 - accuracy: 0.4689 - val_loss: 1.8386 - val_accuracy: 0.5184\n",
      "Epoch 51/100\n",
      "391/391 [==============================] - 29s 73ms/step - loss: 1.9787 - accuracy: 0.4648 - val_loss: 1.7545 - val_accuracy: 0.5202\n",
      "Epoch 52/100\n",
      "391/391 [==============================] - 29s 74ms/step - loss: 1.9424 - accuracy: 0.4747 - val_loss: 1.7518 - val_accuracy: 0.5281\n",
      "Epoch 53/100\n",
      "391/391 [==============================] - 29s 74ms/step - loss: 1.9374 - accuracy: 0.4742 - val_loss: 1.8094 - val_accuracy: 0.5159\n",
      "Epoch 54/100\n",
      "391/391 [==============================] - 28s 73ms/step - loss: 1.9274 - accuracy: 0.4786 - val_loss: 1.6322 - val_accuracy: 0.5527\n",
      "Epoch 55/100\n",
      "391/391 [==============================] - 29s 74ms/step - loss: 1.9091 - accuracy: 0.4838 - val_loss: 1.7529 - val_accuracy: 0.5252\n",
      "Epoch 56/100\n",
      "391/391 [==============================] - 29s 74ms/step - loss: 1.9279 - accuracy: 0.4798 - val_loss: 1.6472 - val_accuracy: 0.5469\n",
      "Epoch 57/100\n",
      "391/391 [==============================] - 28s 73ms/step - loss: 1.9116 - accuracy: 0.4812 - val_loss: 1.7305 - val_accuracy: 0.5357\n",
      "Epoch 58/100\n",
      "391/391 [==============================] - 29s 73ms/step - loss: 1.8974 - accuracy: 0.4798 - val_loss: 1.6373 - val_accuracy: 0.5482\n",
      "Epoch 59/100\n",
      "391/391 [==============================] - 29s 74ms/step - loss: 1.9188 - accuracy: 0.4776 - val_loss: 1.6377 - val_accuracy: 0.5483\n",
      "Epoch 60/100\n",
      "391/391 [==============================] - 29s 73ms/step - loss: 1.8889 - accuracy: 0.4861 - val_loss: 1.6117 - val_accuracy: 0.5578\n",
      "Epoch 61/100\n",
      "391/391 [==============================] - 29s 73ms/step - loss: 1.8754 - accuracy: 0.4904 - val_loss: 1.6822 - val_accuracy: 0.5366\n",
      "Epoch 62/100\n",
      "391/391 [==============================] - 28s 72ms/step - loss: 1.8727 - accuracy: 0.4886 - val_loss: 1.6276 - val_accuracy: 0.5541\n",
      "Epoch 63/100\n",
      "391/391 [==============================] - 28s 73ms/step - loss: 1.8528 - accuracy: 0.5012 - val_loss: 1.6909 - val_accuracy: 0.5337\n",
      "Epoch 64/100\n",
      "391/391 [==============================] - 29s 74ms/step - loss: 1.8698 - accuracy: 0.4884 - val_loss: 1.6625 - val_accuracy: 0.5420\n",
      "Epoch 65/100\n",
      "391/391 [==============================] - 29s 73ms/step - loss: 1.8724 - accuracy: 0.4873 - val_loss: 1.6093 - val_accuracy: 0.5579\n",
      "Epoch 66/100\n",
      "391/391 [==============================] - 29s 73ms/step - loss: 1.8609 - accuracy: 0.4946 - val_loss: 1.6049 - val_accuracy: 0.5645\n",
      "Epoch 67/100\n",
      "391/391 [==============================] - 29s 73ms/step - loss: 1.8454 - accuracy: 0.4977 - val_loss: 1.6339 - val_accuracy: 0.5521\n",
      "Epoch 68/100\n",
      "391/391 [==============================] - 29s 73ms/step - loss: 1.8210 - accuracy: 0.5050 - val_loss: 1.6484 - val_accuracy: 0.5507\n",
      "Epoch 69/100\n",
      "391/391 [==============================] - 29s 74ms/step - loss: 1.8203 - accuracy: 0.5005 - val_loss: 1.9910 - val_accuracy: 0.5130\n",
      "Epoch 70/100\n",
      "391/391 [==============================] - 29s 74ms/step - loss: 1.8265 - accuracy: 0.5030 - val_loss: 1.6229 - val_accuracy: 0.5550\n",
      "Epoch 71/100\n",
      "391/391 [==============================] - 28s 73ms/step - loss: 1.8270 - accuracy: 0.4993 - val_loss: 1.7017 - val_accuracy: 0.5433\n",
      "Epoch 72/100\n",
      "391/391 [==============================] - 28s 73ms/step - loss: 1.8199 - accuracy: 0.5023 - val_loss: 1.6167 - val_accuracy: 0.5603\n",
      "Epoch 73/100\n",
      "391/391 [==============================] - 29s 74ms/step - loss: 1.8393 - accuracy: 0.5019 - val_loss: 1.7677 - val_accuracy: 0.5356\n",
      "Epoch 74/100\n",
      "391/391 [==============================] - 29s 73ms/step - loss: 1.8192 - accuracy: 0.5028 - val_loss: 1.6214 - val_accuracy: 0.5524\n",
      "Epoch 75/100\n",
      "391/391 [==============================] - 29s 73ms/step - loss: 1.8135 - accuracy: 0.5031 - val_loss: 1.6472 - val_accuracy: 0.5526\n",
      "Epoch 76/100\n",
      "391/391 [==============================] - 29s 73ms/step - loss: 1.7866 - accuracy: 0.5139 - val_loss: 1.6609 - val_accuracy: 0.5440\n",
      "Minimum validation loss: 1.604914903640747\n"
     ]
    },
    {
     "data": {
      "image/png": "[encoded data removed]",
      "text/plain": [
       "<Figure size 432x288 with 1 Axes>"
      ]
     },
     "metadata": {
      "needs_background": "light",
      "tags": []
     },
     "output_type": "display_data"
    }
   ],
   "source": [
    "train_model = model.fit(datagen.flow(x_train, y_train, batch_size=128),\n",
    "                  epochs=epochs,\n",
    "                  callbacks=[early_stopping],\n",
    "                  verbose=1,\n",
    "                  validation_data=(x_test, y_test))\n",
    "\n",
    "history_df = pd.DataFrame(train_model.history)\n",
    "history_df.loc[:, ['loss', 'val_loss']].plot();\n",
    "print(\"Minimum validation loss: {}\".format(history_df['val_loss'].min()))"
   ]
  },
  {
   "cell_type": "code",
   "execution_count": null,
   "metadata": {
    "colab": {
     "base_uri": "https://localhost:8080/"
    },
    "id": "RZUIDwf9Jrvq",
    "outputId": "cf1d35f5-bc3c-4c8a-b53b-40c5628a3dd5"
   },
   "outputs": [
    {
     "name": "stdout",
     "output_type": "stream",
     "text": [
      "313/313 [==============================] - 2s 5ms/step - loss: 1.6049 - accuracy: 0.5645\n",
      "Test loss: 1.604914903640747\n",
      "Test accuracy: 0.5644999742507935\n"
     ]
    }
   ],
   "source": [
    "score = model.evaluate(x_test, y_test, steps=math.ceil(10000/32))\n",
    "print('Test loss:', score[0])\n",
    "print('Test accuracy:', score[1])"
   ]
  },
  {
   "cell_type": "markdown",
   "metadata": {
    "id": "X9usKgHYeRnJ"
   },
   "source": [
    "## Cifar10\n",
    "> W celu pokazania jakości modelu, model o tej samej architekrurze co model finalny został nauczony i przetestowany na znacznie prostszym ale podobnym datasecie Cifar10"
   ]
  },
  {
   "cell_type": "code",
   "execution_count": null,
   "metadata": {
    "colab": {
     "base_uri": "https://localhost:8080/"
    },
    "id": "sXF8YEiS3vog",
    "outputId": "bd758ca6-33a7-46cb-a584-b9a6fc6de8b2"
   },
   "outputs": [
    {
     "name": "stdout",
     "output_type": "stream",
     "text": [
      "Downloading data from https://www.cs.toronto.edu/~kriz/cifar-10-python.tar.gz\n",
      "170500096/170498071 [==============================] - 2s 0us/step\n"
     ]
    }
   ],
   "source": [
    "#dataset loading CIFAR10\n",
    "(x10_train, y10_train), (x10_test, y10_test) = tf.keras.datasets.cifar10.load_data()"
   ]
  },
  {
   "cell_type": "code",
   "execution_count": null,
   "metadata": {
    "id": "ybvxc3ld3yZH"
   },
   "outputs": [],
   "source": [
    "#data shape 10\n",
    "input_shape10 = x10_train.shape[1:]"
   ]
  },
  {
   "cell_type": "code",
   "execution_count": null,
   "metadata": {
    "id": "BrXBvZD54Hau"
   },
   "outputs": [],
   "source": [
    "x10_train = x10_train / 255.0\n",
    "x10_test = x10_test / 255.0"
   ]
  },
  {
   "cell_type": "markdown",
   "metadata": {
    "id": "izFQo4F2eOFv"
   },
   "source": [
    ">Tutaj inaczej niż jak przy CIFAR-100, wymiarowość zmieniona została do postacji 10 kolumn, aby dopasować się do 10 klas w tym zbiorze danych"
   ]
  },
  {
   "cell_type": "code",
   "execution_count": null,
   "metadata": {
    "id": "VVeC5gRG4OwY"
   },
   "outputs": [],
   "source": [
    "y10_train = tf.keras.utils.to_categorical(y10_train, num_classes=10)\n",
    "y10_test = tf.keras.utils.to_categorical(y10_test, num_classes=10)"
   ]
  },
  {
   "cell_type": "code",
   "execution_count": null,
   "metadata": {
    "id": "O_lb7ZJX4u0I"
   },
   "outputs": [],
   "source": [
    "datagen = ImageDataGenerator(\n",
    "    featurewise_center=True,\n",
    "    featurewise_std_normalization=True,\n",
    "    rotation_range=20,\n",
    "    width_shift_range=0.2,\n",
    "    height_shift_range=0.2,\n",
    "    horizontal_flip=True)"
   ]
  },
  {
   "cell_type": "markdown",
   "metadata": {
    "id": "54YMsaZYeq7p"
   },
   "source": [
    "#### Model Finalny"
   ]
  },
  {
   "cell_type": "code",
   "execution_count": null,
   "metadata": {
    "id": "WuGmn7cO4zM2"
   },
   "outputs": [],
   "source": [
    "early_stopping = EarlyStopping(\n",
    "    min_delta=0.001, # minimium amount of change to count as an improvement\n",
    "    patience=10, # how many epochs to wait before stopping\n",
    "    restore_best_weights=True,\n",
    ")\n",
    "\n",
    "model10 = Sequential()\n",
    "model10.add(Conv2D(64, kernel_size=(3, 3),\n",
    "                 activation='relu',\n",
    "                  kernel_initializer='he_normal',\n",
    "                 input_shape=input_shape10))\n",
    "model10.add(Conv2D(64, kernel_size=(3, 3),\n",
    "                 activation='relu'))\n",
    "model10.add(tf.keras.layers.BatchNormalization())\n",
    "model10.add(Dropout(0.3))\n",
    "\n",
    "model10.add(Conv2D(128, kernel_size=(3, 3),\n",
    "                 activation='relu'))\n",
    "model10.add(Conv2D(128, kernel_size=(3, 3),\n",
    "                 activation='relu'))\n",
    "model10.add(MaxPooling2D(pool_size=(2, 2)))\n",
    "model10.add(tf.keras.layers.BatchNormalization())\n",
    "model10.add(Dropout(0.4))\n",
    "\n",
    "model10.add(Conv2D(256, kernel_size=(3, 3),\n",
    "                 activation='relu'))\n",
    "model10.add(Conv2D(256, kernel_size=(3, 3),\n",
    "                 activation='relu'))\n",
    "model10.add(MaxPooling2D(pool_size=(2, 2)))\n",
    "model10.add(tf.keras.layers.BatchNormalization())\n",
    "model10.add(Dropout(0.5))\n",
    "\n",
    "model10.add(Flatten())\n",
    "model10.add(Dense(1024, activation='relu'))\n",
    "model10.add(Dropout(0.4))\n",
    "model10.add(Dense(512, activation='relu'))\n",
    "model10.add(Dropout(0.3))\n",
    "model10.add(Dense(10, activation='softmax'))"
   ]
  },
  {
   "cell_type": "code",
   "execution_count": null,
   "metadata": {
    "id": "dXhu8fPF42MP"
   },
   "outputs": [],
   "source": [
    "model10.compile(optimizer='adam', loss= losses.CategoricalCrossentropy(from_logits=True), metrics='accuracy')"
   ]
  },
  {
   "cell_type": "code",
   "execution_count": null,
   "metadata": {
    "colab": {
     "base_uri": "https://localhost:8080/",
     "height": 1000
    },
    "id": "fDRJkx1F45BG",
    "outputId": "f1a01fdb-1131-4d54-918f-787af66a6c5a"
   },
   "outputs": [
    {
     "name": "stderr",
     "output_type": "stream",
     "text": [
      "/usr/local/lib/python3.6/dist-packages/keras_preprocessing/image/image_data_generator.py:720: UserWarning: This ImageDataGenerator specifies `featurewise_center`, but it hasn't been fit on any training data. Fit it first by calling `.fit(numpy_data)`.\n",
      "  warnings.warn('This ImageDataGenerator specifies '\n",
      "/usr/local/lib/python3.6/dist-packages/keras_preprocessing/image/image_data_generator.py:728: UserWarning: This ImageDataGenerator specifies `featurewise_std_normalization`, but it hasn't been fit on any training data. Fit it first by calling `.fit(numpy_data)`.\n",
      "  warnings.warn('This ImageDataGenerator specifies '\n"
     ]
    },
    {
     "name": "stdout",
     "output_type": "stream",
     "text": [
      "Epoch 1/100\n",
      "391/391 [==============================] - 37s 74ms/step - loss: 2.1898 - accuracy: 0.2540 - val_loss: 1.7604 - val_accuracy: 0.3389\n",
      "Epoch 2/100\n",
      "391/391 [==============================] - 28s 72ms/step - loss: 1.6348 - accuracy: 0.3966 - val_loss: 1.4160 - val_accuracy: 0.4779\n",
      "Epoch 3/100\n",
      "391/391 [==============================] - 28s 71ms/step - loss: 1.4362 - accuracy: 0.4820 - val_loss: 1.7721 - val_accuracy: 0.4616\n",
      "Epoch 4/100\n",
      "391/391 [==============================] - 28s 72ms/step - loss: 1.3059 - accuracy: 0.5371 - val_loss: 1.1546 - val_accuracy: 0.6072\n",
      "Epoch 5/100\n",
      "391/391 [==============================] - 28s 71ms/step - loss: 1.2253 - accuracy: 0.5645 - val_loss: 0.9594 - val_accuracy: 0.6607\n",
      "Epoch 6/100\n",
      "391/391 [==============================] - 28s 71ms/step - loss: 1.1587 - accuracy: 0.5926 - val_loss: 1.3107 - val_accuracy: 0.5932\n",
      "Epoch 7/100\n",
      "391/391 [==============================] - 28s 71ms/step - loss: 1.1268 - accuracy: 0.6033 - val_loss: 0.9690 - val_accuracy: 0.6586\n",
      "Epoch 8/100\n",
      "391/391 [==============================] - 28s 72ms/step - loss: 1.0750 - accuracy: 0.6275 - val_loss: 0.8124 - val_accuracy: 0.7152\n",
      "Epoch 9/100\n",
      "391/391 [==============================] - 28s 71ms/step - loss: 1.0342 - accuracy: 0.6403 - val_loss: 1.1373 - val_accuracy: 0.6322\n",
      "Epoch 10/100\n",
      "391/391 [==============================] - 28s 72ms/step - loss: 1.0020 - accuracy: 0.6546 - val_loss: 0.9332 - val_accuracy: 0.6868\n",
      "Epoch 11/100\n",
      "391/391 [==============================] - 28s 71ms/step - loss: 0.9899 - accuracy: 0.6616 - val_loss: 0.9477 - val_accuracy: 0.6889\n",
      "Epoch 12/100\n",
      "391/391 [==============================] - 28s 71ms/step - loss: 0.9609 - accuracy: 0.6712 - val_loss: 0.8134 - val_accuracy: 0.7274\n",
      "Epoch 13/100\n",
      "391/391 [==============================] - 28s 71ms/step - loss: 0.9389 - accuracy: 0.6832 - val_loss: 0.8757 - val_accuracy: 0.7112\n",
      "Epoch 14/100\n",
      "391/391 [==============================] - 28s 71ms/step - loss: 0.9318 - accuracy: 0.6873 - val_loss: 0.7315 - val_accuracy: 0.7507\n",
      "Epoch 15/100\n",
      "391/391 [==============================] - 28s 71ms/step - loss: 0.8939 - accuracy: 0.6983 - val_loss: 0.7352 - val_accuracy: 0.7480\n",
      "Epoch 16/100\n",
      "391/391 [==============================] - 28s 70ms/step - loss: 0.8743 - accuracy: 0.7001 - val_loss: 0.8275 - val_accuracy: 0.7182\n",
      "Epoch 17/100\n",
      "391/391 [==============================] - 28s 71ms/step - loss: 0.8639 - accuracy: 0.7067 - val_loss: 0.8159 - val_accuracy: 0.7308\n",
      "Epoch 18/100\n",
      "391/391 [==============================] - 28s 71ms/step - loss: 0.8547 - accuracy: 0.7116 - val_loss: 0.7843 - val_accuracy: 0.7390\n",
      "Epoch 19/100\n",
      "391/391 [==============================] - 28s 70ms/step - loss: 0.8346 - accuracy: 0.7163 - val_loss: 0.8058 - val_accuracy: 0.7386\n",
      "Epoch 20/100\n",
      "391/391 [==============================] - 28s 71ms/step - loss: 0.8292 - accuracy: 0.7213 - val_loss: 0.6707 - val_accuracy: 0.7677\n",
      "Epoch 21/100\n",
      "391/391 [==============================] - 28s 71ms/step - loss: 0.8111 - accuracy: 0.7251 - val_loss: 0.6769 - val_accuracy: 0.7752\n",
      "Epoch 22/100\n",
      "391/391 [==============================] - 28s 72ms/step - loss: 0.7870 - accuracy: 0.7329 - val_loss: 0.6712 - val_accuracy: 0.7812\n",
      "Epoch 23/100\n",
      "391/391 [==============================] - 28s 71ms/step - loss: 0.7784 - accuracy: 0.7346 - val_loss: 0.6736 - val_accuracy: 0.7769\n",
      "Epoch 24/100\n",
      "391/391 [==============================] - 28s 71ms/step - loss: 0.7731 - accuracy: 0.7398 - val_loss: 0.6488 - val_accuracy: 0.7854\n",
      "Epoch 25/100\n",
      "391/391 [==============================] - 28s 71ms/step - loss: 0.7643 - accuracy: 0.7434 - val_loss: 0.6602 - val_accuracy: 0.7713\n",
      "Epoch 26/100\n",
      "391/391 [==============================] - 28s 70ms/step - loss: 0.7493 - accuracy: 0.7480 - val_loss: 0.6010 - val_accuracy: 0.7967\n",
      "Epoch 27/100\n",
      "391/391 [==============================] - 28s 72ms/step - loss: 0.7341 - accuracy: 0.7505 - val_loss: 0.6000 - val_accuracy: 0.8012\n",
      "Epoch 28/100\n",
      "391/391 [==============================] - 28s 71ms/step - loss: 0.7319 - accuracy: 0.7526 - val_loss: 0.8244 - val_accuracy: 0.7386\n",
      "Epoch 29/100\n",
      "391/391 [==============================] - 27s 70ms/step - loss: 0.7207 - accuracy: 0.7579 - val_loss: 0.6032 - val_accuracy: 0.7978\n",
      "Epoch 30/100\n",
      "391/391 [==============================] - 28s 71ms/step - loss: 0.7302 - accuracy: 0.7536 - val_loss: 0.6176 - val_accuracy: 0.7912\n",
      "Epoch 31/100\n",
      "391/391 [==============================] - 28s 71ms/step - loss: 0.7105 - accuracy: 0.7603 - val_loss: 0.6009 - val_accuracy: 0.7979\n",
      "Epoch 32/100\n",
      "391/391 [==============================] - 28s 72ms/step - loss: 0.6955 - accuracy: 0.7667 - val_loss: 0.6733 - val_accuracy: 0.7748\n",
      "Epoch 33/100\n",
      "391/391 [==============================] - 28s 71ms/step - loss: 0.6839 - accuracy: 0.7655 - val_loss: 0.6238 - val_accuracy: 0.7895\n",
      "Epoch 34/100\n",
      "391/391 [==============================] - 28s 71ms/step - loss: 0.6849 - accuracy: 0.7709 - val_loss: 0.5336 - val_accuracy: 0.8213\n",
      "Epoch 35/100\n",
      "391/391 [==============================] - 28s 70ms/step - loss: 0.6750 - accuracy: 0.7725 - val_loss: 0.6842 - val_accuracy: 0.7745\n",
      "Epoch 36/100\n",
      "391/391 [==============================] - 28s 72ms/step - loss: 0.6759 - accuracy: 0.7712 - val_loss: 0.5810 - val_accuracy: 0.8067\n",
      "Epoch 37/100\n",
      "391/391 [==============================] - 28s 71ms/step - loss: 0.6715 - accuracy: 0.7745 - val_loss: 0.5724 - val_accuracy: 0.8066\n",
      "Epoch 38/100\n",
      "391/391 [==============================] - 28s 71ms/step - loss: 0.6534 - accuracy: 0.7821 - val_loss: 0.4800 - val_accuracy: 0.8347\n",
      "Epoch 39/100\n",
      "391/391 [==============================] - 28s 70ms/step - loss: 0.6419 - accuracy: 0.7816 - val_loss: 0.4975 - val_accuracy: 0.8330\n",
      "Epoch 40/100\n",
      "391/391 [==============================] - 28s 71ms/step - loss: 0.6471 - accuracy: 0.7811 - val_loss: 0.5075 - val_accuracy: 0.8277\n",
      "Epoch 41/100\n",
      "391/391 [==============================] - 28s 70ms/step - loss: 0.6332 - accuracy: 0.7874 - val_loss: 0.5931 - val_accuracy: 0.8063\n",
      "Epoch 42/100\n",
      "391/391 [==============================] - 28s 71ms/step - loss: 0.6284 - accuracy: 0.7868 - val_loss: 0.4894 - val_accuracy: 0.8350\n",
      "Epoch 43/100\n",
      "391/391 [==============================] - 28s 72ms/step - loss: 0.6290 - accuracy: 0.7912 - val_loss: 0.4820 - val_accuracy: 0.8364\n",
      "Epoch 44/100\n",
      "391/391 [==============================] - 28s 71ms/step - loss: 0.6179 - accuracy: 0.7909 - val_loss: 0.5463 - val_accuracy: 0.8165\n",
      "Epoch 45/100\n",
      "391/391 [==============================] - 28s 70ms/step - loss: 0.6178 - accuracy: 0.7905 - val_loss: 0.5652 - val_accuracy: 0.8071\n",
      "Epoch 46/100\n",
      "391/391 [==============================] - 27s 70ms/step - loss: 0.6023 - accuracy: 0.7956 - val_loss: 0.5098 - val_accuracy: 0.8318\n",
      "Epoch 47/100\n",
      "391/391 [==============================] - 27s 70ms/step - loss: 0.6149 - accuracy: 0.7947 - val_loss: 0.5188 - val_accuracy: 0.8268\n",
      "Epoch 48/100\n",
      "391/391 [==============================] - 27s 70ms/step - loss: 0.5900 - accuracy: 0.7987 - val_loss: 0.5218 - val_accuracy: 0.8232\n",
      "Minimum validation loss: 0.4799579083919525\n"
     ]
    },
    {
     "data": {
      "image/png": "[encoded data removed]",
      "text/plain": [
       "<Figure size 432x288 with 1 Axes>"
      ]
     },
     "metadata": {
      "needs_background": "light",
      "tags": []
     },
     "output_type": "display_data"
    }
   ],
   "source": [
    "train_model = model10.fit(datagen.flow(x10_train, y10_train, batch_size=128),\n",
    "                  epochs=epochs,\n",
    "                  callbacks=[early_stopping],\n",
    "                  verbose=1,\n",
    "                  validation_data=(x10_test, y10_test))\n",
    "\n",
    "history_df = pd.DataFrame(train_model.history)\n",
    "history_df.loc[:, ['loss', 'val_loss']].plot();\n",
    "print(\"Minimum validation loss: {}\".format(history_df['val_loss'].min()))"
   ]
  },
  {
   "cell_type": "code",
   "execution_count": null,
   "metadata": {
    "colab": {
     "base_uri": "https://localhost:8080/"
    },
    "id": "wHR96PnOJSi-",
    "outputId": "41166df6-506b-4908-ddf0-dc937375ed19"
   },
   "outputs": [
    {
     "name": "stdout",
     "output_type": "stream",
     "text": [
      "313/313 [==============================] - 2s 5ms/step - loss: 0.4800 - accuracy: 0.8347\n",
      "Test loss: 0.4799579083919525\n",
      "Test accuracy: 0.8346999883651733\n"
     ]
    }
   ],
   "source": [
    "score = model10.evaluate(x10_test, y10_test, steps=math.ceil(10000/32))\n",
    "print('Test loss:', score[0])\n",
    "print('Test accuracy:', score[1])"
   ]
  },
  {
   "cell_type": "markdown",
   "metadata": {
    "id": "_VHVk0tcdGA3"
   },
   "source": [
    "## Wnioski\n",
    ">Celem raportu było stworzenie modelu sieci neuronowych, który pozwoli precyzyjnie podporządkować obrazy ze zbioru CIFAR100 do odpowiadających im 100 klas. Ostateczny model powstał po wielu próbach i dzięki wyciągniętym wnioskom, odpowiednio dostosowano hiperparametry oraz wybrano funkcje aktywacji. Pierwszy zaprezentowany model pokazuje jaka poprawa nastąpiła po kalibracji modelu, wstępna trafność wynosi około 45%, co było wynikiem niezadowalającym. Po zastosowaniu funkcji: Dropuot, BatchNormalization i Maxpooling precyzja wzrosła do ponad 56%. Wydaje się to także wynikiem przeciętnym, warto jednak zwrócić uwagę, iż zbiór zawiera aż 100 klas obiektów. Aby pokazać różnicę w poziomie trudności wykorzystany model został dodatkowo wykorzystany do rozpoznania obrazów na zbiorze CIFAR10, tam jego precyzja wynosi ponad 83% co może świadczyć o dobrej jakości modelu."
   ]
  },
  {
   "cell_type": "markdown",
   "metadata": {
    "id": "9eHsnuOGdQBQ"
   },
   "source": [
    "## Bibliografia\n",
    "1. Deep Learning - Ian Goodfellow, Aaron Courville\n",
    "Hands-On Machine Learning with Scikit-Learn and TensorFlow: Concepts,Tools, and Techniques to Build Intelligent Systems - Aurelien Geron Revisiting Small Batch Training for Deep Neural Networks, 2018 - Dominic Masters, Carlo Luschi.\n",
    "\n",
    "2. Canadian Institute For Advanced Research \"https://www.cs.toronto.edu/~kriz/cifar.html\", dostęp 03.2023\n"
   ]
  },
  {
   "cell_type": "code",
   "execution_count": null,
   "metadata": {
    "id": "N46OhlnldrpO"
   },
   "outputs": [],
   "source": []
  }
 ],
 "metadata": {
  "accelerator": "GPU",
  "colab": {
   "provenance": []
  },
  "kernelspec": {
   "display_name": "Python 3",
   "language": "python",
   "name": "python3"
  },
  "language_info": {
   "codemirror_mode": {
    "name": "ipython",
    "version": 3
   },
   "file_extension": ".py",
   "mimetype": "text/x-python",
   "name": "python",
   "nbconvert_exporter": "python",
   "pygments_lexer": "ipython3",
   "version": "3.7.6"
  }
 },
 "nbformat": 4,
 "nbformat_minor": 1
}
